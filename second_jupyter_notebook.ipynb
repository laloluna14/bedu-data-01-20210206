{
 "cells": [
  {
   "cell_type": "code",
   "execution_count": 1,
   "id": "restricted-equality",
   "metadata": {},
   "outputs": [],
   "source": [
    "students = [\n",
    "    {\n",
    "        'name': 'Galileo',\n",
    "        'age': 31\n",
    "    },\n",
    "    {\n",
    "        'name': 'Omar',\n",
    "        'age': 20\n",
    "    },\n",
    "    {\n",
    "        'name': 'Fabiola',\n",
    "        'age': 20\n",
    "    },\n",
    "    {\n",
    "        'name': 'Guillermo',\n",
    "        'age': 20\n",
    "    },\n",
    "    {\n",
    "        'name': 'Eduardo',\n",
    "        'age': 20\n",
    "    },\n",
    "    {\n",
    "        'name': 'Armando',\n",
    "        'age': 20\n",
    "    }\n",
    "]"
   ]
  },
  {
   "cell_type": "markdown",
   "id": "broadband-purchase",
   "metadata": {},
   "source": [
    "## Homework\n",
    "\n",
    "Calculate the age average from students"
   ]
  },
  {
   "cell_type": "markdown",
   "id": "dying-guarantee",
   "metadata": {},
   "source": [
    "## Homework\n",
    "\n",
    "Generate a random number between 1000 ... 299"
   ]
  },
  {
   "cell_type": "code",
   "execution_count": 4,
   "id": "colonial-profile",
   "metadata": {},
   "outputs": [
    {
     "name": "stdout",
     "output_type": "stream",
     "text": [
      "21.833333333333332\n"
     ]
    }
   ],
   "source": [
    "suma = 0\n",
    "\n",
    "for s in students:\n",
    "    suma = suma + s.get('age')\n",
    "\n",
    "avg = suma / len(students)\n",
    "print(avg)"
   ]
  },
  {
   "cell_type": "code",
   "execution_count": 13,
   "id": "retired-filter",
   "metadata": {},
   "outputs": [
    {
     "name": "stdout",
     "output_type": "stream",
     "text": [
      "311\n"
     ]
    }
   ],
   "source": [
    "import random\n",
    "print(random.randint(299,1000))"
   ]
  },
  {
   "cell_type": "code",
   "execution_count": null,
   "id": "meaningful-humor",
   "metadata": {},
   "outputs": [],
   "source": []
  },
  {
   "cell_type": "code",
   "execution_count": null,
   "id": "utility-stylus",
   "metadata": {},
   "outputs": [],
   "source": []
  }
 ],
 "metadata": {
  "kernelspec": {
   "display_name": "Python 3",
   "language": "python",
   "name": "python3"
  },
  "language_info": {
   "codemirror_mode": {
    "name": "ipython",
    "version": 3
   },
   "file_extension": ".py",
   "mimetype": "text/x-python",
   "name": "python",
   "nbconvert_exporter": "python",
   "pygments_lexer": "ipython3",
   "version": "3.8.5"
  }
 },
 "nbformat": 4,
 "nbformat_minor": 5
}
