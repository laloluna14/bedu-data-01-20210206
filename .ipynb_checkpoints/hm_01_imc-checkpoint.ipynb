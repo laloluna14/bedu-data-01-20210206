{
 "cells": [
  {
   "cell_type": "markdown",
   "id": "fossil-bradley",
   "metadata": {},
   "source": [
    "# Program that asks for user's weight and height and returns IMC"
   ]
  },
  {
   "cell_type": "code",
   "execution_count": 1,
   "id": "reserved-client",
   "metadata": {},
   "outputs": [
    {
     "name": "stdout",
     "output_type": "stream",
     "text": [
      "Give me your weight in kilograms: 76\n"
     ]
    }
   ],
   "source": [
    "weight = float(input('Give me your weight in kilograms: '))"
   ]
  },
  {
   "cell_type": "code",
   "execution_count": 2,
   "id": "shared-munich",
   "metadata": {},
   "outputs": [
    {
     "name": "stdout",
     "output_type": "stream",
     "text": [
      "Give me your height in meters: 1.88\n"
     ]
    }
   ],
   "source": [
    "height = float(input('Give me your height in meters: '))"
   ]
  },
  {
   "cell_type": "code",
   "execution_count": 3,
   "id": "trained-switch",
   "metadata": {},
   "outputs": [
    {
     "name": "stdout",
     "output_type": "stream",
     "text": [
      "Your IMC equals to 21.50294250792214\n"
     ]
    }
   ],
   "source": [
    "imc = weight / height ** 2\n",
    "print(f'Your IMC equals to {imc}')"
   ]
  },
  {
   "cell_type": "code",
   "execution_count": null,
   "id": "gothic-joyce",
   "metadata": {},
   "outputs": [],
   "source": []
  }
 ],
 "metadata": {
  "kernelspec": {
   "display_name": "Python 3",
   "language": "python",
   "name": "python3"
  },
  "language_info": {
   "codemirror_mode": {
    "name": "ipython",
    "version": 3
   },
   "file_extension": ".py",
   "mimetype": "text/x-python",
   "name": "python",
   "nbconvert_exporter": "python",
   "pygments_lexer": "ipython3",
   "version": "3.8.5"
  }
 },
 "nbformat": 4,
 "nbformat_minor": 5
}
