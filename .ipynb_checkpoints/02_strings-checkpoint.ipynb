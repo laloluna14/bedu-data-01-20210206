{
 "cells": [
  {
   "cell_type": "markdown",
   "id": "stuffed-detector",
   "metadata": {},
   "source": [
    "# This is a sample code of how strings work with Python"
   ]
  },
  {
   "cell_type": "code",
   "execution_count": 2,
   "id": "sustained-halloween",
   "metadata": {},
   "outputs": [],
   "source": [
    "name = 'Eduardo'"
   ]
  },
  {
   "cell_type": "code",
   "execution_count": 3,
   "id": "cheap-swift",
   "metadata": {},
   "outputs": [],
   "source": [
    "last_name = 'Luna'"
   ]
  },
  {
   "cell_type": "code",
   "execution_count": 4,
   "id": "brave-sullivan",
   "metadata": {},
   "outputs": [
    {
     "name": "stdout",
     "output_type": "stream",
     "text": [
      "Eduardo\n"
     ]
    }
   ],
   "source": [
    "print(name)"
   ]
  },
  {
   "cell_type": "code",
   "execution_count": 5,
   "id": "czech-extreme",
   "metadata": {},
   "outputs": [
    {
     "name": "stdout",
     "output_type": "stream",
     "text": [
      "LunaLunaLunaLunaLunaLunaLunaLunaLuna\n"
     ]
    }
   ],
   "source": [
    "print(last_name*9)"
   ]
  },
  {
   "cell_type": "code",
   "execution_count": 6,
   "id": "vital-coverage",
   "metadata": {},
   "outputs": [
    {
     "name": "stdout",
     "output_type": "stream",
     "text": [
      "EduardoLuna\n"
     ]
    }
   ],
   "source": [
    "print(name + last_name)"
   ]
  },
  {
   "cell_type": "code",
   "execution_count": null,
   "id": "essential-treasure",
   "metadata": {},
   "outputs": [],
   "source": []
  }
 ],
 "metadata": {
  "kernelspec": {
   "display_name": "Python 3",
   "language": "python",
   "name": "python3"
  },
  "language_info": {
   "codemirror_mode": {
    "name": "ipython",
    "version": 3
   },
   "file_extension": ".py",
   "mimetype": "text/x-python",
   "name": "python",
   "nbconvert_exporter": "python",
   "pygments_lexer": "ipython3",
   "version": "3.8.5"
  }
 },
 "nbformat": 4,
 "nbformat_minor": 5
}
