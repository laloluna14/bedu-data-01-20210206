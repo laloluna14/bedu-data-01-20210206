{
 "cells": [
  {
   "cell_type": "markdown",
   "id": "western-attribute",
   "metadata": {},
   "source": [
    "# Dictionaries"
   ]
  },
  {
   "cell_type": "code",
   "execution_count": 1,
   "id": "technical-reach",
   "metadata": {},
   "outputs": [],
   "source": [
    "student_1 = {\n",
    "    'name': 'Galileo',\n",
    "    'age': 31\n",
    "}"
   ]
  },
  {
   "cell_type": "code",
   "execution_count": 2,
   "id": "supported-remove",
   "metadata": {},
   "outputs": [],
   "source": [
    "student_2 = {\n",
    "    'name': 'Sofía',\n",
    "    'age': 4,\n",
    "    'city': 'Zapopan',\n",
    "    'state': 'Jalisco'\n",
    "}"
   ]
  },
  {
   "cell_type": "code",
   "execution_count": 3,
   "id": "brown-miller",
   "metadata": {},
   "outputs": [
    {
     "name": "stdout",
     "output_type": "stream",
     "text": [
      "Jalisco\n"
     ]
    }
   ],
   "source": [
    "# Para evitar errores en el caso de que no exista el valor\n",
    "print(student_2.get('state', 'N/A'))"
   ]
  },
  {
   "cell_type": "code",
   "execution_count": 4,
   "id": "imposed-bronze",
   "metadata": {},
   "outputs": [
    {
     "name": "stdout",
     "output_type": "stream",
     "text": [
      "{'name': 'Galileo', 'age': 31}\n",
      "<class 'dict'>\n"
     ]
    }
   ],
   "source": [
    "print(student_1)\n",
    "print(type(student_1))"
   ]
  },
  {
   "cell_type": "code",
   "execution_count": 5,
   "id": "suspended-delta",
   "metadata": {},
   "outputs": [
    {
     "name": "stdout",
     "output_type": "stream",
     "text": [
      "Galileo\n",
      "31\n"
     ]
    }
   ],
   "source": [
    "print(student_1[\"name\"])\n",
    "print(student_1[\"age\"])"
   ]
  },
  {
   "cell_type": "code",
   "execution_count": 6,
   "id": "separate-royal",
   "metadata": {},
   "outputs": [
    {
     "name": "stdout",
     "output_type": "stream",
     "text": [
      "Galileo is 31 years old.\n"
     ]
    }
   ],
   "source": [
    "print(f'{student_1[\"name\"]} is {student_1[\"age\"]} years old.')"
   ]
  },
  {
   "cell_type": "code",
   "execution_count": null,
   "id": "through-campbell",
   "metadata": {},
   "outputs": [],
   "source": []
  }
 ],
 "metadata": {
  "kernelspec": {
   "display_name": "Python 3",
   "language": "python",
   "name": "python3"
  },
  "language_info": {
   "codemirror_mode": {
    "name": "ipython",
    "version": 3
   },
   "file_extension": ".py",
   "mimetype": "text/x-python",
   "name": "python",
   "nbconvert_exporter": "python",
   "pygments_lexer": "ipython3",
   "version": "3.8.5"
  }
 },
 "nbformat": 4,
 "nbformat_minor": 5
}
