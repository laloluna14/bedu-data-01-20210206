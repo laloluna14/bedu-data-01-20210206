{
 "cells": [
  {
   "cell_type": "markdown",
   "id": "existing-george",
   "metadata": {},
   "source": [
    "# List iteration using for loop"
   ]
  },
  {
   "cell_type": "code",
   "execution_count": 1,
   "id": "round-motel",
   "metadata": {},
   "outputs": [],
   "source": [
    "ISR_TAX = 0.35"
   ]
  },
  {
   "cell_type": "code",
   "execution_count": 2,
   "id": "rubber-margin",
   "metadata": {},
   "outputs": [],
   "source": [
    "salaries = [\n",
    "    12000.00,\n",
    "    10000.00,\n",
    "    11000.00,\n",
    "    10500.00,\n",
    "    9000.00,\n",
    "    11200.00\n",
    "]"
   ]
  },
  {
   "cell_type": "code",
   "execution_count": 3,
   "id": "loved-polyester",
   "metadata": {},
   "outputs": [
    {
     "name": "stdout",
     "output_type": "stream",
     "text": [
      "4200\n",
      "3500\n",
      "3850\n",
      "3675\n",
      "3150\n",
      "3920\n"
     ]
    }
   ],
   "source": [
    "for s in salaries:\n",
    "    salary_tax = s*ISR_TAX\n",
    "    #print(f'{salary_tax:.2f}')\n",
    "    salary_tax = round(salary_tax)\n",
    "    print(salary_tax)"
   ]
  },
  {
   "cell_type": "code",
   "execution_count": null,
   "id": "desirable-shepherd",
   "metadata": {},
   "outputs": [],
   "source": []
  }
 ],
 "metadata": {
  "kernelspec": {
   "display_name": "Python 3",
   "language": "python",
   "name": "python3"
  },
  "language_info": {
   "codemirror_mode": {
    "name": "ipython",
    "version": 3
   },
   "file_extension": ".py",
   "mimetype": "text/x-python",
   "name": "python",
   "nbconvert_exporter": "python",
   "pygments_lexer": "ipython3",
   "version": "3.8.5"
  }
 },
 "nbformat": 4,
 "nbformat_minor": 5
}
