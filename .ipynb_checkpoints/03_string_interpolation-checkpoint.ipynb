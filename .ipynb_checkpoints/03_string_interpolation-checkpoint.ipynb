{
 "cells": [
  {
   "cell_type": "markdown",
   "id": "based-income",
   "metadata": {},
   "source": [
    "# Sample code of how the string interpolation works in Python"
   ]
  },
  {
   "cell_type": "code",
   "execution_count": 1,
   "id": "australian-flower",
   "metadata": {},
   "outputs": [],
   "source": [
    "name = 'Eduardo'"
   ]
  },
  {
   "cell_type": "code",
   "execution_count": 2,
   "id": "selected-homeless",
   "metadata": {},
   "outputs": [],
   "source": [
    "last_name = 'Luna'"
   ]
  },
  {
   "cell_type": "code",
   "execution_count": 3,
   "id": "monthly-visitor",
   "metadata": {},
   "outputs": [
    {
     "name": "stdout",
     "output_type": "stream",
     "text": [
      "Eduardo Luna\n"
     ]
    }
   ],
   "source": [
    "# f-strings\n",
    "full_name_f = f'{name} {last_name}'\n",
    "print(full_name_f)"
   ]
  },
  {
   "cell_type": "code",
   "execution_count": 4,
   "id": "processed-seeker",
   "metadata": {},
   "outputs": [
    {
     "name": "stdout",
     "output_type": "stream",
     "text": [
      "Luna Eduardo\n"
     ]
    }
   ],
   "source": [
    "# string fortmatting\n",
    "full_name_formatting = '{} {}'.format(last_name, name)\n",
    "print(full_name_formatting)"
   ]
  },
  {
   "cell_type": "code",
   "execution_count": 5,
   "id": "closing-davis",
   "metadata": {},
   "outputs": [
    {
     "name": "stdout",
     "output_type": "stream",
     "text": [
      "Eduardo Luna\n"
     ]
    }
   ],
   "source": [
    "full_name_formatting = '{n} {l}'.format(l = last_name, n = name)\n",
    "print(full_name_formatting)"
   ]
  },
  {
   "cell_type": "code",
   "execution_count": null,
   "id": "hybrid-attachment",
   "metadata": {},
   "outputs": [],
   "source": []
  }
 ],
 "metadata": {
  "kernelspec": {
   "display_name": "Python 3",
   "language": "python",
   "name": "python3"
  },
  "language_info": {
   "codemirror_mode": {
    "name": "ipython",
    "version": 3
   },
   "file_extension": ".py",
   "mimetype": "text/x-python",
   "name": "python",
   "nbconvert_exporter": "python",
   "pygments_lexer": "ipython3",
   "version": "3.8.5"
  }
 },
 "nbformat": 4,
 "nbformat_minor": 5
}
