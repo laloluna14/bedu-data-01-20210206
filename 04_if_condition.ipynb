{
 "cells": [
  {
   "cell_type": "markdown",
   "id": "wireless-miniature",
   "metadata": {},
   "source": [
    "# IF condition"
   ]
  },
  {
   "cell_type": "code",
   "execution_count": 1,
   "id": "logical-dividend",
   "metadata": {},
   "outputs": [],
   "source": [
    "import time"
   ]
  },
  {
   "cell_type": "code",
   "execution_count": 2,
   "id": "beautiful-democrat",
   "metadata": {},
   "outputs": [
    {
     "name": "stdout",
     "output_type": "stream",
     "text": [
      "What is your name? Eduardo\n"
     ]
    }
   ],
   "source": [
    "name = input('What is your name? ')"
   ]
  },
  {
   "cell_type": "code",
   "execution_count": 5,
   "id": "historic-arrow",
   "metadata": {},
   "outputs": [
    {
     "name": "stdout",
     "output_type": "stream",
     "text": [
      "Hello Eduardo\n",
      "Sorry, but you lost.\n",
      "Good bye!!!\n"
     ]
    }
   ],
   "source": [
    "print(f'Hello {name}')\n",
    "\n",
    "magic_number = 6\n",
    "\n",
    "time.sleep(2.0)\n",
    "\n",
    "if len(name) > magic_number:\n",
    "    print('Sorry, but you lost.')\n",
    "elif len(name) == magic_number:\n",
    "    print('Congrats, you got a special prize')\n",
    "else:\n",
    "    print('You won!!! :D')\n",
    "\n",
    "time.sleep(2.0)\n",
    "print('Good bye!!!')"
   ]
  },
  {
   "cell_type": "code",
   "execution_count": null,
   "id": "stupid-professional",
   "metadata": {},
   "outputs": [],
   "source": []
  }
 ],
 "metadata": {
  "kernelspec": {
   "display_name": "Python 3",
   "language": "python",
   "name": "python3"
  },
  "language_info": {
   "codemirror_mode": {
    "name": "ipython",
    "version": 3
   },
   "file_extension": ".py",
   "mimetype": "text/x-python",
   "name": "python",
   "nbconvert_exporter": "python",
   "pygments_lexer": "ipython3",
   "version": "3.8.5"
  }
 },
 "nbformat": 4,
 "nbformat_minor": 5
}
