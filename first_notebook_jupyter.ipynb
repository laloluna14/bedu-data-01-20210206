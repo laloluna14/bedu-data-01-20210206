{
 "cells": [
  {
   "cell_type": "markdown",
   "id": "italic-arrangement",
   "metadata": {},
   "source": [
    "# First Jupyter Notebook\n",
    "### Dependencies\n",
    "This needs to have jupyterlab installed in your virtual environment\n",
    "\n",
    "```python\n",
    "pip install jupyterlab\n",
    "```"
   ]
  },
  {
   "cell_type": "code",
   "execution_count": 1,
   "id": "affiliated-centre",
   "metadata": {},
   "outputs": [],
   "source": [
    "first_name = 'Eduardo'"
   ]
  },
  {
   "cell_type": "code",
   "execution_count": 2,
   "id": "adult-patch",
   "metadata": {},
   "outputs": [],
   "source": [
    "last_name = 'Luna'"
   ]
  },
  {
   "cell_type": "code",
   "execution_count": 3,
   "id": "competitive-vermont",
   "metadata": {},
   "outputs": [
    {
     "name": "stdout",
     "output_type": "stream",
     "text": [
      "EduardoEduardoEduardoEduardoEduardo\n"
     ]
    }
   ],
   "source": [
    "print(first_name*5)"
   ]
  },
  {
   "cell_type": "code",
   "execution_count": 4,
   "id": "banner-speed",
   "metadata": {},
   "outputs": [
    {
     "data": {
      "text/plain": [
       "'LunaLunaLunaLunaLunaLunaLunaLunaLuna'"
      ]
     },
     "execution_count": 4,
     "metadata": {},
     "output_type": "execute_result"
    }
   ],
   "source": [
    "last_name * 9"
   ]
  },
  {
   "cell_type": "code",
   "execution_count": null,
   "id": "english-blackjack",
   "metadata": {},
   "outputs": [],
   "source": []
  }
 ],
 "metadata": {
  "kernelspec": {
   "display_name": "Python 3",
   "language": "python",
   "name": "python3"
  },
  "language_info": {
   "codemirror_mode": {
    "name": "ipython",
    "version": 3
   },
   "file_extension": ".py",
   "mimetype": "text/x-python",
   "name": "python",
   "nbconvert_exporter": "python",
   "pygments_lexer": "ipython3",
   "version": "3.8.5"
  }
 },
 "nbformat": 4,
 "nbformat_minor": 5
}
