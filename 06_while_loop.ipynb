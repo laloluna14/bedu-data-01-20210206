{
 "cells": [
  {
   "cell_type": "markdown",
   "id": "confident-logan",
   "metadata": {},
   "source": [
    "# How while loop works in python"
   ]
  },
  {
   "cell_type": "code",
   "execution_count": 1,
   "id": "immune-overhead",
   "metadata": {},
   "outputs": [],
   "source": [
    "import time"
   ]
  },
  {
   "cell_type": "code",
   "execution_count": 5,
   "id": "thermal-criticism",
   "metadata": {},
   "outputs": [],
   "source": [
    "counter = 1"
   ]
  },
  {
   "cell_type": "code",
   "execution_count": 6,
   "id": "anonymous-cloud",
   "metadata": {},
   "outputs": [
    {
     "name": "stdout",
     "output_type": "stream",
     "text": [
      "1\n",
      "2\n",
      "3\n",
      "4\n",
      "5\n",
      "6\n",
      "7\n",
      "8\n",
      "9\n",
      "10\n",
      "Good bye!!!\n"
     ]
    }
   ],
   "source": [
    "while counter <= 10:\n",
    "    time.sleep(1.5)\n",
    "    print(counter)\n",
    "    counter += 1\n",
    "    \n",
    "print('Good bye!!!')"
   ]
  },
  {
   "cell_type": "code",
   "execution_count": null,
   "id": "together-comfort",
   "metadata": {},
   "outputs": [],
   "source": []
  }
 ],
 "metadata": {
  "kernelspec": {
   "display_name": "Python 3",
   "language": "python",
   "name": "python3"
  },
  "language_info": {
   "codemirror_mode": {
    "name": "ipython",
    "version": 3
   },
   "file_extension": ".py",
   "mimetype": "text/x-python",
   "name": "python",
   "nbconvert_exporter": "python",
   "pygments_lexer": "ipython3",
   "version": "3.8.5"
  }
 },
 "nbformat": 4,
 "nbformat_minor": 5
}
