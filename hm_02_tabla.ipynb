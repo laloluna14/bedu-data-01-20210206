{
 "cells": [
  {
   "cell_type": "markdown",
   "id": "african-phone",
   "metadata": {},
   "source": [
    "# given a number show its Tabla de Multiplicar"
   ]
  },
  {
   "cell_type": "code",
   "execution_count": 1,
   "id": "particular-missouri",
   "metadata": {},
   "outputs": [
    {
     "name": "stdout",
     "output_type": "stream",
     "text": [
      "Give me a number: 7\n"
     ]
    }
   ],
   "source": [
    "number = int(input('Give me a number: '))"
   ]
  },
  {
   "cell_type": "code",
   "execution_count": 2,
   "id": "provincial-solomon",
   "metadata": {},
   "outputs": [
    {
     "name": "stdout",
     "output_type": "stream",
     "text": [
      "7 X 1 = 7\n",
      "7 X 2 = 14\n",
      "7 X 3 = 21\n",
      "7 X 4 = 28\n",
      "7 X 5 = 35\n",
      "7 X 6 = 42\n",
      "7 X 7 = 49\n",
      "7 X 8 = 56\n",
      "7 X 9 = 63\n",
      "7 X 10 = 70\n"
     ]
    }
   ],
   "source": [
    "for i in range(1, 11):\n",
    "    mult = number * i\n",
    "    print(f'{number} X {i} = {mult}')"
   ]
  },
  {
   "cell_type": "code",
   "execution_count": null,
   "id": "disabled-industry",
   "metadata": {},
   "outputs": [],
   "source": []
  }
 ],
 "metadata": {
  "kernelspec": {
   "display_name": "Python 3",
   "language": "python",
   "name": "python3"
  },
  "language_info": {
   "codemirror_mode": {
    "name": "ipython",
    "version": 3
   },
   "file_extension": ".py",
   "mimetype": "text/x-python",
   "name": "python",
   "nbconvert_exporter": "python",
   "pygments_lexer": "ipython3",
   "version": "3.8.5"
  }
 },
 "nbformat": 4,
 "nbformat_minor": 5
}
