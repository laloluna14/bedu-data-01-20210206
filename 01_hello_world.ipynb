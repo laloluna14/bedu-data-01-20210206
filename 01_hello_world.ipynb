{
 "cells": [
  {
   "cell_type": "markdown",
   "id": "israeli-mechanism",
   "metadata": {},
   "source": [
    "# This is a multi line comment\n",
    "```python\n",
    "I am the second line\n",
    "...\n",
    "...\n",
    "I am another line\n",
    "```"
   ]
  },
  {
   "cell_type": "code",
   "execution_count": 1,
   "id": "transparent-tragedy",
   "metadata": {},
   "outputs": [],
   "source": [
    "# Importing the time module from python standard library\n",
    "import time"
   ]
  },
  {
   "cell_type": "code",
   "execution_count": 2,
   "id": "durable-tongue",
   "metadata": {},
   "outputs": [
    {
     "name": "stdout",
     "output_type": "stream",
     "text": [
      "Hello world!!!\n",
      ":D\n"
     ]
    }
   ],
   "source": [
    "# First print statement\n",
    "print('Hello world!!!')\n",
    "\n",
    "# Sleep the execution for these seconds\n",
    "time.sleep(3.0)\n",
    "\n",
    "# Print after sleep function\n",
    "print(':D')"
   ]
  },
  {
   "cell_type": "code",
   "execution_count": null,
   "id": "authentic-oklahoma",
   "metadata": {},
   "outputs": [],
   "source": []
  }
 ],
 "metadata": {
  "kernelspec": {
   "display_name": "Python 3",
   "language": "python",
   "name": "python3"
  },
  "language_info": {
   "codemirror_mode": {
    "name": "ipython",
    "version": 3
   },
   "file_extension": ".py",
   "mimetype": "text/x-python",
   "name": "python",
   "nbconvert_exporter": "python",
   "pygments_lexer": "ipython3",
   "version": "3.8.5"
  }
 },
 "nbformat": 4,
 "nbformat_minor": 5
}
